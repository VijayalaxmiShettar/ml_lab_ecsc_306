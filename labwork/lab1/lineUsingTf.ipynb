{
 "cells": [
  {
   "cell_type": "code",
   "execution_count": 48,
   "metadata": {},
   "outputs": [
    {
     "name": "stdout",
     "output_type": "stream",
     "text": [
      "2.5\n",
      "6.5\n"
     ]
    }
   ],
   "source": [
    "import tensorflow as tf\n",
    "\n",
    "list1=[1.,2.,3.,4.]\n",
    "list2=[5.,6.,7.,8.]\n",
    "result1=tf.reduce_mean(list1)\n",
    "result2=tf.reduce_mean(list2)\n",
    "sess=tf.Session()\n",
    "print(sess.run(result1))\n",
    "print(sess.run(result2))\n",
    "#sess.close()"
   ]
  },
  {
   "cell_type": "code",
   "execution_count": 49,
   "metadata": {},
   "outputs": [
    {
     "name": "stdout",
     "output_type": "stream",
     "text": [
      "2.5 1.25\n"
     ]
    }
   ],
   "source": [
    "import pandas as pd\n",
    "\n",
    "arr=tf.constant(list1)\n",
    "list_df = pd.DataFrame(data=list1)\n",
    "\n",
    "mean,var=tf.nn.moments(arr,[0])\n",
    "sess=tf.Session()\n",
    "m,v=sess.run([mean,var])\n",
    "print(m,v)\n",
    "#sess.close()"
   ]
  },
  {
   "cell_type": "code",
   "execution_count": 50,
   "metadata": {},
   "outputs": [
    {
     "name": "stdout",
     "output_type": "stream",
     "text": [
      "5.0\n",
      "-3.5\n"
     ]
    }
   ],
   "source": [
    "#sess=tf.Session()\n",
    "sumation=0\n",
    "for i in range(0,len(list1)):\n",
    "    sumation+=(list1[i]-result1)*(list2[i]-result2)\n",
    "print(sess.run(sumation))\n",
    "#c=tf.div(sumation,v)\n",
    "#sess.run(c)\n",
    "#tf.reset_default_graph()\n",
    "with tf.name_scope(\"mc_value\"):\n",
    "    with tf.name_scope(\"m\"):\n",
    "        m=tf.div(sumation,v,name=\"divide\")\n",
    "    with tf.name_scope(\"c\"):\n",
    "        z=tf.multiply(m,result1,name=\"mul_1\")\n",
    "        r=tf.subtract(result2,z,name=\"diff\")\n",
    "with tf.Session() as sess:\n",
    "    writer=tf.summary.FileWriter(\"/tmp/tboard/output6\",sess.graph)\n",
    "    print(sess.run(r))\n",
    "    writer.close()\n",
    "#sess.close()"
   ]
  },
  {
   "cell_type": "code",
   "execution_count": 47,
   "metadata": {
    "collapsed": true
   },
   "outputs": [],
   "source": [
    "tf.reset_default_graph()"
   ]
  },
  {
   "cell_type": "code",
   "execution_count": null,
   "metadata": {
    "collapsed": true
   },
   "outputs": [],
   "source": []
  }
 ],
 "metadata": {
  "kernelspec": {
   "display_name": "Python 3",
   "language": "python",
   "name": "python3"
  },
  "language_info": {
   "codemirror_mode": {
    "name": "ipython",
    "version": 3
   },
   "file_extension": ".py",
   "mimetype": "text/x-python",
   "name": "python",
   "nbconvert_exporter": "python",
   "pygments_lexer": "ipython3",
   "version": "3.6.2"
  }
 },
 "nbformat": 4,
 "nbformat_minor": 2
}
