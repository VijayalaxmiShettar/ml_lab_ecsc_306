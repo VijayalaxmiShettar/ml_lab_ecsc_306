{
 "cells": [
  {
   "cell_type": "code",
   "execution_count": 43,
   "metadata": {},
   "outputs": [
    {
     "name": "stdout",
     "output_type": "stream",
     "text": [
      "2.5\n",
      "6.5\n"
     ]
    }
   ],
   "source": [
    "import tensorflow as tf\n",
    "\n",
    "list1=[1.,2.,3.,4.]\n",
    "list2=[5.,6.,7.,8.]\n",
    "result1=tf.reduce_mean(list1)\n",
    "result2=tf.reduce_mean(list2)\n",
    "sess=tf.Session()\n",
    "print(sess.run(result1))\n",
    "print(sess.run(result2))\n",
    "#sess.close()"
   ]
  },
  {
   "cell_type": "code",
   "execution_count": 44,
   "metadata": {},
   "outputs": [
    {
     "name": "stdout",
     "output_type": "stream",
     "text": [
      "2.5 1.25\n"
     ]
    }
   ],
   "source": [
    "import pandas as pd\n",
    "\n",
    "arr=tf.constant(list1)\n",
    "list_df = pd.DataFrame(data=list1)\n",
    "\n",
    "mean,var=tf.nn.moments(arr,[0])\n",
    "sess=tf.Session()\n",
    "m,v=sess.run([mean,var])\n",
    "print(m,v)\n",
    "#sess.close()"
   ]
  },
  {
   "cell_type": "code",
   "execution_count": 45,
   "metadata": {},
   "outputs": [
    {
     "name": "stdout",
     "output_type": "stream",
     "text": [
      "2.25\n",
      "0.25\n",
      "0.25\n",
      "2.25\n",
      "1.66667\n",
      "3.16667\n"
     ]
    }
   ],
   "source": [
    "#sess=tf.Session()\n",
    "sumation=0.0\n",
    "for i in range(0,len(list1)):\n",
    "    print(sess.run(tf.multiply(tf.subtract(list1[i],result1),tf.subtract(list2[i],result2))))\n",
    "    sumation+=(list1[i]-result1)*(list2[i]-result2)\n",
    "sumation=sumation/(len(list1)-1)\n",
    "print(sess.run(sumation))\n",
    "#c=tf.div(sumation,v)\n",
    "#sess.run(c)\n",
    "#tf.reset_default_graph()\n",
    "with tf.name_scope(\"mc_value\"):\n",
    "    with tf.name_scope(\"m\"):\n",
    "        m=tf.div(sumation,v,name=\"divide\")\n",
    "    with tf.name_scope(\"c\"):\n",
    "        z=tf.multiply(m,result1,name=\"mul_1\")\n",
    "        r=tf.subtract(result2,z,name=\"diff\")\n",
    "with tf.Session() as sess:\n",
    "    writer=tf.summary.FileWriter(\"/tmp/tboard/output6\",sess.graph)\n",
    "    print(sess.run(r))\n",
    "    writer.close()\n",
    "#sess.close()"
   ]
  },
  {
   "cell_type": "code",
   "execution_count": 24,
   "metadata": {
    "collapsed": true
   },
   "outputs": [],
   "source": [
    "tf.reset_default_graph()"
   ]
  },
  {
   "cell_type": "code",
   "execution_count": 41,
   "metadata": {},
   "outputs": [
    {
     "data": {
      "text/plain": [
       "1.3333333"
      ]
     },
     "execution_count": 41,
     "metadata": {},
     "output_type": "execute_result"
    }
   ],
   "source": [
    "sess2=tf.Session()\n",
    "sess2.run(tf.div(sumation,v))"
   ]
  },
  {
   "cell_type": "code",
   "execution_count": 42,
   "metadata": {},
   "outputs": [
    {
     "data": {
      "image/png": "[encoded data removed]",
      "text/plain": [
       "<matplotlib.figure.Figure at 0x29a97782a20>"
      ]
     },
     "metadata": {},
     "output_type": "display_data"
    }
   ],
   "source": [
    "import matplotlib.pyplot as plt\n",
    "import numpy as np\n",
    "x_arr=np.array(list1)\n",
    "y_arr=np.array(list2)\n",
    "\n",
    "sess2=tf.Session()\n",
    "plt.plot(x, sess2.run(m) * x + sess2.run(r), label='Fitted line')\n",
    "plt.legend()\n",
    "plt.show()\n"
   ]
  },
  {
   "cell_type": "code",
   "execution_count": 56,
   "metadata": {},
   "outputs": [
    {
     "name": "stdout",
     "output_type": "stream",
     "text": [
      "Epoch: 0050 cost= 0.695070863 W= 1.92173 b= 1.12283\n",
      "Epoch: 0100 cost= 0.587778330 W= 1.89298 b= 1.34471\n",
      "Epoch: 0150 cost= 0.505506516 W= 1.82871 b= 1.53763\n",
      "Epoch: 0200 cost= 0.434785694 W= 1.76857 b= 1.71636\n",
      "Epoch: 0250 cost= 0.373959541 W= 1.71279 b= 1.88212\n",
      "Epoch: 0300 cost= 0.321642548 W= 1.66105 b= 2.03584\n",
      "Epoch: 0350 cost= 0.276645362 W= 1.61307 b= 2.17841\n",
      "Epoch: 0400 cost= 0.237942651 W= 1.56857 b= 2.31063\n",
      "Epoch: 0450 cost= 0.204654306 W= 1.5273 b= 2.43325\n",
      "Epoch: 0500 cost= 0.176023155 W= 1.48903 b= 2.54697\n",
      "Epoch: 0550 cost= 0.151397586 W= 1.45353 b= 2.65244\n",
      "Epoch: 0600 cost= 0.130217314 W= 1.42061 b= 2.75025\n",
      "Epoch: 0650 cost= 0.112000041 W= 1.39008 b= 2.84096\n",
      "Epoch: 0700 cost= 0.096331373 W= 1.36177 b= 2.92509\n",
      "Epoch: 0750 cost= 0.082854562 W= 1.33551 b= 3.00311\n",
      "Epoch: 0800 cost= 0.071263224 W= 1.31116 b= 3.07547\n",
      "Epoch: 0850 cost= 0.061293393 W= 1.28857 b= 3.14258\n",
      "Epoch: 0900 cost= 0.052718572 W= 1.26763 b= 3.20481\n",
      "Epoch: 0950 cost= 0.045343272 W= 1.2482 b= 3.26253\n",
      "Epoch: 1000 cost= 0.038999856 W= 1.23019 b= 3.31606\n",
      "Optimization Finished!\n",
      "Training cost= 0.0389999 W= 1.23019 b= 3.31606 \n",
      "\n"
     ]
    },
    {
     "data": {
      "image/png": "[encoded data removed]",
      "text/plain": [
       "<matplotlib.figure.Figure at 0x29a98a37908>"
      ]
     },
     "metadata": {},
     "output_type": "display_data"
    }
   ],
   "source": [
    "\n",
    "import numpy\n",
    "import matplotlib.pyplot as plt\n",
    "rng = numpy.random\n",
    "\n",
    "learning_rate = 0.01\n",
    "training_epochs = 1000\n",
    "display_step = 50\n",
    "\n",
    "train_X = numpy.asarray([1.,2.,3.,4.])\n",
    "train_Y = numpy.asarray([5.,6.,7.,8.])\n",
    "n_samples = train_X.shape[0]\n",
    "\n",
    "X = tf.placeholder(\"float\")\n",
    "Y = tf.placeholder(\"float\")\n",
    "\n",
    "W = tf.Variable(rng.randn(), name=\"weight\")\n",
    "b = tf.Variable(rng.randn(), name=\"bias\")\n",
    "\n",
    "pred = tf.add(tf.multiply(X, W), b)\n",
    "\n",
    "cost = tf.reduce_sum(tf.pow(pred-Y, 2))/(2*n_samples)\n",
    "\n",
    "optimizer = tf.train.GradientDescentOptimizer(learning_rate).minimize(cost)\n",
    "\n",
    "init = tf.global_variables_initializer()\n",
    "\n",
    "with tf.Session() as sess:\n",
    "    sess.run(init)\n",
    "\n",
    "    for epoch in range(training_epochs):\n",
    "        for (x, y) in zip(train_X, train_Y):\n",
    "            sess.run(optimizer, feed_dict={X: x, Y: y})\n",
    "        if (epoch+1) % display_step == 0:\n",
    "            c = sess.run(cost, feed_dict={X: train_X, Y:train_Y})\n",
    "            print(\"Epoch:\", '%04d' % (epoch+1), \"cost=\", \"{:.9f}\".format(c), \"W=\", sess.run(W), \"b=\", sess.run(b))\n",
    "    print(\"Optimization Finished!\")\n",
    "    training_cost = sess.run(cost, feed_dict={X: train_X, Y: train_Y})\n",
    "    print(\"Training cost=\", training_cost, \"W=\", sess.run(W), \"b=\", sess.run(b), '\\n')\n",
    "\n",
    "    plt.plot(train_X, train_Y, 'ro', label='Original data')\n",
    "    plt.plot(train_X, sess.run(W) * train_X + sess.run(b), label='Fitted line')\n",
    "    plt.legend()\n",
    "    plt.show()"
   ]
  },
  {
   "cell_type": "code",
   "execution_count": null,
   "metadata": {
    "collapsed": true
   },
   "outputs": [],
   "source": []
  }
 ],
 "metadata": {
  "kernelspec": {
   "display_name": "Python 3",
   "language": "python",
   "name": "python3"
  },
  "language_info": {
   "codemirror_mode": {
    "name": "ipython",
    "version": 3
   },
   "file_extension": ".py",
   "mimetype": "text/x-python",
   "name": "python",
   "nbconvert_exporter": "python",
   "pygments_lexer": "ipython3",
   "version": "3.6.2"
  }
 },
 "nbformat": 4,
 "nbformat_minor": 2
}
