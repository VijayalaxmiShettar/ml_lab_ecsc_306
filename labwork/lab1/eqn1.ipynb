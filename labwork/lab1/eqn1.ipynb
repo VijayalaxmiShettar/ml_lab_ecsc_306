{
 "cells": [
  {
   "cell_type": "code",
   "execution_count": 1,
   "metadata": {},
   "outputs": [
    {
     "name": "stdout",
     "output_type": "stream",
     "text": [
      "9\n"
     ]
    }
   ],
   "source": [
    "import tensorflow as tf\n",
    "with tf.name_scope(\"Eqn_1\"):\n",
    "    with tf.name_scope(\"scope1\"):\n",
    "        with tf.name_scope(\"a_square\"):\n",
    "            x=tf.square(1,name=\"a_sq\")\n",
    "        with tf.name_scope(\"b_square\"):\n",
    "            y=tf.square(2,name=\"b_sq\")\n",
    "        z=tf.add(x,y,name=\"sum\")\n",
    "    with tf.name_scope(\"scope2\"):\n",
    "        p=tf.multiply(1,2,name=\"multi_ab\")\n",
    "        q=tf.scalar_mul(2,p)\n",
    "    r=tf.add(z,q,name=\"Final\")\n",
    "with tf.Session() as sess:\n",
    "    writer=tf.summary.FileWriter(\"/tmp/tboard/output4\",sess.graph)\n",
    "    print(sess.run(r))\n",
    "    writer.close()\n"
   ]
  },
  {
   "cell_type": "code",
   "execution_count": null,
   "metadata": {
    "collapsed": true
   },
   "outputs": [],
   "source": []
  }
 ],
 "metadata": {
  "kernelspec": {
   "display_name": "Python 3",
   "language": "python",
   "name": "python3"
  },
  "language_info": {
   "codemirror_mode": {
    "name": "ipython",
    "version": 3
   },
   "file_extension": ".py",
   "mimetype": "text/x-python",
   "name": "python",
   "nbconvert_exporter": "python",
   "pygments_lexer": "ipython3",
   "version": "3.6.2"
  }
 },
 "nbformat": 4,
 "nbformat_minor": 2
}
