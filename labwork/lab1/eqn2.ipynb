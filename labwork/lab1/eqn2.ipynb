{
 "cells": [
  {
   "cell_type": "code",
   "execution_count": 2,
   "metadata": {},
   "outputs": [
    {
     "name": "stdout",
     "output_type": "stream",
     "text": [
      "0\n"
     ]
    }
   ],
   "source": [
    "import tensorflow as tf\n",
    "tf.reset_default_graph()\n",
    "with tf.name_scope(\"Eqn_2\"):\n",
    "    with tf.name_scope(\"scope1\"):\n",
    "        with tf.name_scope(\"a_square\"):\n",
    "            x=tf.square(1,name=\"a_sq\")\n",
    "        with tf.name_scope(\"b_square\"):\n",
    "            y=tf.square(2,name=\"b_sq\")\n",
    "        with tf.name_scope(\"c_square\"):\n",
    "            z=tf.square(3,name=\"c_sq\")\n",
    "        with tf.name_scope(\"2ab\"):\n",
    "            p=tf.multiply(1,2,name=\"multi_ab\")\n",
    "            q=tf.scalar_mul(2,p)\n",
    "        a=tf.add(x,y,name=\"sum_1\")\n",
    "        b=tf.add(z,a,name=\"sum_2\")\n",
    "        c=tf.add(q,b,name=\"sum_3\")\n",
    "        \n",
    "    with tf.name_scope(\"scope2\"):\n",
    "        with tf.name_scope(\"2bc\"):\n",
    "            e=tf.multiply(3,2,name=\"multi_bc\")\n",
    "            f=tf.scalar_mul(2,e)\n",
    "        with tf.name_scope(\"2ac\"):\n",
    "            g=tf.multiply(3,1,name=\"multi_ac\")\n",
    "            h=tf.scalar_mul(2,g)\n",
    "        i=tf.add(h,f,name=\"sum_4\")\n",
    "    r=tf.subtract(c,i,name=\"Difference\")\n",
    "with tf.Session() as sess:\n",
    "    writer=tf.summary.FileWriter(\"/tmp/tboard/output5\",sess.graph)\n",
    "    print(sess.run(r))\n",
    "    writer.close()\n"
   ]
  },
  {
   "cell_type": "code",
   "execution_count": null,
   "metadata": {
    "collapsed": true
   },
   "outputs": [],
   "source": []
  }
 ],
 "metadata": {
  "kernelspec": {
   "display_name": "Python 3",
   "language": "python",
   "name": "python3"
  },
  "language_info": {
   "codemirror_mode": {
    "name": "ipython",
    "version": 3
   },
   "file_extension": ".py",
   "mimetype": "text/x-python",
   "name": "python",
   "nbconvert_exporter": "python",
   "pygments_lexer": "ipython3",
   "version": "3.6.1"
  }
 },
 "nbformat": 4,
 "nbformat_minor": 2
}
