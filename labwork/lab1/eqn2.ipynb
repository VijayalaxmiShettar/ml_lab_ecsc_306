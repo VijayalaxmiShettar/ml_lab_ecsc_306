{
 "cells": [
  {
   "cell_type": "code",
   "execution_count": 3,
   "metadata": {},
   "outputs": [
    {
     "name": "stdout",
     "output_type": "stream",
     "text": [
      "-13\n"
     ]
    }
   ],
   "source": [
    "import tensorflow as tf\n",
    "tf.reset_default_graph()\n",
    "with tf.name_scope(\"Eqn_2\"):\n",
    "    with tf.name_scope(\"scope1\"):\n",
    "        with tf.name_scope(\"a_cube\"):\n",
    "            x=tf.pow(1,3,name=\"a_cube\")\n",
    "        with tf.name_scope(\"b_cube\"):\n",
    "            y=tf.pow(2,3,name=\"b_cube\")\n",
    "        a=tf.subtract(x,y,name=\"diff_1\")\n",
    "    \n",
    "    with tf.name_scope(\"scope2\"):\n",
    "        with tf.name_scope(\"diff_a_b\"):\n",
    "            e=tf.subtract(1,2,name=\"diff_ab\")\n",
    "        with tf.name_scope(\"3ab\"):\n",
    "            g=tf.multiply(2,1,name=\"multi_ab\")\n",
    "            h=tf.scalar_mul(3,g)\n",
    "        i=tf.multiply(h,e,name=\"mul\")\n",
    "    r=tf.add(a,i,name=\"add_final\")\n",
    "with tf.Session() as sess:\n",
    "    writer=tf.summary.FileWriter(\"/tmp/tboard/output5\",sess.graph)\n",
    "    print(sess.run(r))\n",
    "    writer.close()\n"
   ]
  },
  {
   "cell_type": "code",
   "execution_count": null,
   "metadata": {
    "collapsed": true
   },
   "outputs": [],
   "source": []
  }
 ],
 "metadata": {
  "kernelspec": {
   "display_name": "Python 3",
   "language": "python",
   "name": "python3"
  },
  "language_info": {
   "codemirror_mode": {
    "name": "ipython",
    "version": 3
   },
   "file_extension": ".py",
   "mimetype": "text/x-python",
   "name": "python",
   "nbconvert_exporter": "python",
   "pygments_lexer": "ipython3",
   "version": "3.6.2"
  }
 },
 "nbformat": 4,
 "nbformat_minor": 2
}
